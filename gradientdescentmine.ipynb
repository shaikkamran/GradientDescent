{
 "cells": [
  {
   "cell_type": "markdown",
   "metadata": {},
   "source": [
    "# Gradient Descent Algorithm\n"
   ]
  },
  {
   "cell_type": "code",
   "execution_count": 24,
   "metadata": {
    "collapsed": false
   },
   "outputs": [
    {
     "data": {
      "image/png": "[encoded data removed]",
      "text/plain": [
       "<matplotlib.figure.Figure at 0xc01a59bf60>"
      ]
     },
     "metadata": {},
     "output_type": "display_data"
    }
   ],
   "source": [
    "import numpy as np\n",
    "import matplotlib.pyplot as plt\n",
    "\n",
    "def GradientDescent(x,y,theta,alpha,NoOfIetrations):\n",
    "\tm=len(x)\n",
    "\tfor i in range(NoOfIetrations):\n",
    "\n",
    "\t\ttheta=theta-(alpha/m)*(((x.dot(theta)-y).T).dot(x)).T\n",
    "\t\t#print(theta)\n",
    "\treturn theta\t\n",
    "x=np.linspace(-5,5,100)\n",
    "x=x.reshape(len(x),1)\n",
    "y=-0.5+2.2*x+0.3*x**3 +2*np.random.randn(100,1)\n",
    "plt.plot(x,y,'b')\n",
    "plt.show()\n",
    "z=np.hstack((np.ones((len(x),1)),x))\n",
    "theta=(GradientDescent(z,y,np.array([[0],[0]]),0.001,1000))\n",
    "def PredictNewYvalue(theta,v):\n",
    "\t\n",
    "\treturn v.dot(theta)\n",
    "\n"
   ]
  },
  {
   "cell_type": "code",
   "execution_count": 25,
   "metadata": {
    "collapsed": false
   },
   "outputs": [],
   "source": [
    "x_new=np.linspace(-3,3)[:,None]\n",
    "x_new=np.hstack((np.ones((len(x_new),1)),x_new))\n",
    "\n",
    "y_pred=x_new.dot(theta)"
   ]
  },
  {
   "cell_type": "code",
   "execution_count": 26,
   "metadata": {
    "collapsed": false
   },
   "outputs": [],
   "source": [
    "x_n=x_new[:,1].reshape(50,1)"
   ]
  },
  {
   "cell_type": "code",
   "execution_count": 27,
   "metadata": {
    "collapsed": false
   },
   "outputs": [
    {
     "data": {
      "text/plain": [
       "[<matplotlib.lines.Line2D at 0xc01a552860>]"
      ]
     },
     "execution_count": 27,
     "metadata": {},
     "output_type": "execute_result"
    }
   ],
   "source": [
    "plt.scatter(x,y)\n",
    "plt.plot(x_n,y_pred)"
   ]
  },
  {
   "cell_type": "code",
   "execution_count": 28,
   "metadata": {
    "collapsed": false
   },
   "outputs": [
    {
     "data": {
      "image/png": "[encoded data removed]",
      "text/plain": [
       "<matplotlib.figure.Figure at 0xc01a5449b0>"
      ]
     },
     "metadata": {},
     "output_type": "display_data"
    }
   ],
   "source": [
    "plt.show()"
   ]
  },
  {
   "cell_type": "code",
   "execution_count": 29,
   "metadata": {
    "collapsed": true
   },
   "outputs": [],
   "source": [
    "x=np.linspace(-5,5,100)\n",
    "x=x.reshape(len(x),1)\n",
    "y=-0.5+2.2*x+0.3*x**3 +2*np.random.randn(100,1)\n"
   ]
  },
  {
   "cell_type": "code",
   "execution_count": 30,
   "metadata": {
    "collapsed": false
   },
   "outputs": [],
   "source": [
    "x_new=np.hstack([x,x**2,2*x**3])\n",
    "#x_new=np.hstack((np.ones((len(x_new),1)),x_new))\n"
   ]
  },
  {
   "cell_type": "code",
   "execution_count": 31,
   "metadata": {
    "collapsed": false
   },
   "outputs": [],
   "source": [
    "x_new.shape\n",
    "theta=np.zeros(3)\n",
    "theta=theta.reshape(3,1)"
   ]
  },
  {
   "cell_type": "code",
   "execution_count": 32,
   "metadata": {
    "collapsed": false
   },
   "outputs": [
    {
     "data": {
      "text/plain": [
       "array([[ 0.31366938],\n",
       "       [-0.02478121],\n",
       "       [ 0.20104703]])"
      ]
     },
     "execution_count": 32,
     "metadata": {},
     "output_type": "execute_result"
    }
   ],
   "source": [
    "th=(GradientDescent(x_new,y,theta,0.00011,1000))\n",
    "th\n"
   ]
  },
  {
   "cell_type": "code",
   "execution_count": 33,
   "metadata": {
    "collapsed": false
   },
   "outputs": [
    {
     "data": {
      "text/plain": [
       "array([-46.48772018])"
      ]
     },
     "execution_count": 33,
     "metadata": {},
     "output_type": "execute_result"
    }
   ],
   "source": [
    "x_new[2,:].dot(th)"
   ]
  },
  {
   "cell_type": "code",
   "execution_count": 34,
   "metadata": {
    "collapsed": false
   },
   "outputs": [
    {
     "data": {
      "text/plain": [
       "array([[ 0.31366938],\n",
       "       [-0.02478121],\n",
       "       [ 0.20104703]])"
      ]
     },
     "execution_count": 34,
     "metadata": {},
     "output_type": "execute_result"
    }
   ],
   "source": [
    "plt.scatter(x,y)\n",
    "th"
   ]
  },
  {
   "cell_type": "code",
   "execution_count": 35,
   "metadata": {
    "collapsed": false
   },
   "outputs": [],
   "source": [
    "\n",
    "y_pred=x_new.dot(th)"
   ]
  },
  {
   "cell_type": "code",
   "execution_count": 36,
   "metadata": {
    "collapsed": false
   },
   "outputs": [
    {
     "data": {
      "text/plain": [
       "[<matplotlib.lines.Line2D at 0xc0146c29e8>]"
      ]
     },
     "execution_count": 36,
     "metadata": {},
     "output_type": "execute_result"
    }
   ],
   "source": [
    "plt.plot(x,y_pred,'r')"
   ]
  },
  {
   "cell_type": "code",
   "execution_count": 37,
   "metadata": {
    "collapsed": false
   },
   "outputs": [
    {
     "data": {
      "image/png": "[encoded data removed]",
      "text/plain": [
       "<matplotlib.figure.Figure at 0xc019feff28>"
      ]
     },
     "metadata": {},
     "output_type": "display_data"
    }
   ],
   "source": [
    "plt.show()"
   ]
  },
  {
   "cell_type": "code",
   "execution_count": 38,
   "metadata": {
    "collapsed": false
   },
   "outputs": [
    {
     "data": {
      "text/plain": [
       "array([[ -5.24496339e+01],\n",
       "       [ -4.94081287e+01],\n",
       "       [ -4.64877202e+01],\n",
       "       [ -4.36859220e+01],\n",
       "       [ -4.10002478e+01],\n",
       "       [ -3.84282110e+01],\n",
       "       [ -3.59673253e+01],\n",
       "       [ -3.36151043e+01],\n",
       "       [ -3.13690616e+01],\n",
       "       [ -2.92267107e+01],\n",
       "       [ -2.71855652e+01],\n",
       "       [ -2.52431387e+01],\n",
       "       [ -2.33969448e+01],\n",
       "       [ -2.16444971e+01],\n",
       "       [ -1.99833092e+01],\n",
       "       [ -1.84108946e+01],\n",
       "       [ -1.69247670e+01],\n",
       "       [ -1.55224399e+01],\n",
       "       [ -1.42014269e+01],\n",
       "       [ -1.29592416e+01],\n",
       "       [ -1.17933977e+01],\n",
       "       [ -1.07014086e+01],\n",
       "       [ -9.68078793e+00],\n",
       "       [ -8.72904935e+00],\n",
       "       [ -7.84370641e+00],\n",
       "       [ -7.02227270e+00],\n",
       "       [ -6.26226180e+00],\n",
       "       [ -5.56118730e+00],\n",
       "       [ -4.91656279e+00],\n",
       "       [ -4.32590185e+00],\n",
       "       [ -3.78671807e+00],\n",
       "       [ -3.29652503e+00],\n",
       "       [ -2.85283633e+00],\n",
       "       [ -2.45316555e+00],\n",
       "       [ -2.09502627e+00],\n",
       "       [ -1.77593209e+00],\n",
       "       [ -1.49339659e+00],\n",
       "       [ -1.24493335e+00],\n",
       "       [ -1.02805597e+00],\n",
       "       [ -8.40278030e-01],\n",
       "       [ -6.79113116e-01],\n",
       "       [ -5.42074814e-01],\n",
       "       [ -4.26676713e-01],\n",
       "       [ -3.30432399e-01],\n",
       "       [ -2.50855459e-01],\n",
       "       [ -1.85459479e-01],\n",
       "       [ -1.31758047e-01],\n",
       "       [ -8.72647480e-02],\n",
       "       [ -4.94931700e-02],\n",
       "       [ -1.59568993e-02],\n",
       "       [  1.58304774e-02],\n",
       "       [  4.83553733e-02],\n",
       "       [  8.41042016e-02],\n",
       "       [  1.25563376e-01],\n",
       "       [  1.75219309e-01],\n",
       "       [  2.35558414e-01],\n",
       "       [  3.09067106e-01],\n",
       "       [  3.98231796e-01],\n",
       "       [  5.05538898e-01],\n",
       "       [  6.33474825e-01],\n",
       "       [  7.84525992e-01],\n",
       "       [  9.61178810e-01],\n",
       "       [  1.16591969e+00],\n",
       "       [  1.40123506e+00],\n",
       "       [  1.66961131e+00],\n",
       "       [  1.97353487e+00],\n",
       "       [  2.31549215e+00],\n",
       "       [  2.69796956e+00],\n",
       "       [  3.12345351e+00],\n",
       "       [  3.59443042e+00],\n",
       "       [  4.11338671e+00],\n",
       "       [  4.68280878e+00],\n",
       "       [  5.30518304e+00],\n",
       "       [  5.98299592e+00],\n",
       "       [  6.71873382e+00],\n",
       "       [  7.51488316e+00],\n",
       "       [  8.37393036e+00],\n",
       "       [  9.29836181e+00],\n",
       "       [  1.02906639e+01],\n",
       "       [  1.13533232e+01],\n",
       "       [  1.24888259e+01],\n",
       "       [  1.36996585e+01],\n",
       "       [  1.49883075e+01],\n",
       "       [  1.63572592e+01],\n",
       "       [  1.78090001e+01],\n",
       "       [  1.93460166e+01],\n",
       "       [  2.09707950e+01],\n",
       "       [  2.26858218e+01],\n",
       "       [  2.44935835e+01],\n",
       "       [  2.63965664e+01],\n",
       "       [  2.83972569e+01],\n",
       "       [  3.04981414e+01],\n",
       "       [  3.27017064e+01],\n",
       "       [  3.50104383e+01],\n",
       "       [  3.74268235e+01],\n",
       "       [  3.99533484e+01],\n",
       "       [  4.25924994e+01],\n",
       "       [  4.53467629e+01],\n",
       "       [  4.82186254e+01],\n",
       "       [  5.12105732e+01]])"
      ]
     },
     "execution_count": 38,
     "metadata": {},
     "output_type": "execute_result"
    }
   ],
   "source": [
    "y_pred"
   ]
  },
  {
   "cell_type": "code",
   "execution_count": 22,
   "metadata": {
    "collapsed": true
   },
   "outputs": [],
   "source": []
  },
  {
   "cell_type": "code",
   "execution_count": 23,
   "metadata": {
    "collapsed": false
   },
   "outputs": [
    {
     "data": {
      "text/plain": [
       "array([[-0.46795237, -2.15899676,  1.07524901,  1.00738363, -0.92125576,\n",
       "        -0.99880784, -0.35725046,  3.01431081,  0.59857192, -0.22265095],\n",
       "       [-0.09394094,  0.04179313, -0.17873417, -1.07555175,  0.25481065,\n",
       "        -1.1212917 ,  1.17450681, -1.43175837, -0.0396461 , -1.31235832],\n",
       "       [ 0.84271452,  0.58827311,  0.35459724, -1.14927133, -0.44804073,\n",
       "        -0.49730013, -0.94856695,  0.6644373 ,  0.51053554,  0.44779997],\n",
       "       [ 0.23791808,  1.7234599 , -0.92758347, -0.21164874, -1.31460116,\n",
       "        -0.49022922, -0.2326085 ,  1.1894908 , -0.18559638,  1.73971518],\n",
       "       [ 1.35997817,  1.25871787,  1.4690659 ,  0.00644538, -0.9283467 ,\n",
       "         0.33689294,  0.15143105, -0.7457941 ,  1.24026224, -0.7103516 ],\n",
       "       [ 0.86634219,  0.83322525, -1.24671703, -0.01461201, -1.18949485,\n",
       "        -0.84268293,  0.29599703,  0.56439053, -0.39735287, -1.72560944],\n",
       "       [-1.42789325,  1.50416759, -0.35708662, -2.33150992, -0.66588475,\n",
       "        -0.71813815, -0.63595219,  0.76937705,  1.01013457,  1.79345697],\n",
       "       [ 0.09534872,  1.37773022,  0.8986338 , -0.25486192, -0.16375344,\n",
       "         0.07650335, -1.32032799, -0.84337992, -1.3177015 ,  0.40043901],\n",
       "       [ 1.53932492,  0.0319058 , -0.53396109, -0.1738671 ,  2.2515585 ,\n",
       "        -0.70190516,  1.39863611,  2.37581754,  1.45158429, -0.83006308],\n",
       "       [ 0.89307589, -0.61068516, -0.56313186, -0.91479739,  0.34121842,\n",
       "         1.94791952,  0.15442748,  2.22476467,  1.45081874, -0.36170534]])"
      ]
     },
     "execution_count": 23,
     "metadata": {},
     "output_type": "execute_result"
    }
   ],
   "source": []
  },
  {
   "cell_type": "code",
   "execution_count": null,
   "metadata": {
    "collapsed": true
   },
   "outputs": [],
   "source": []
  }
 ],
 "metadata": {
  "kernelspec": {
   "display_name": "Python 3",
   "language": "python",
   "name": "python3"
  },
  "language_info": {
   "codemirror_mode": {
    "name": "ipython",
    "version": 3
   },
   "file_extension": ".py",
   "mimetype": "text/x-python",
   "name": "python",
   "nbconvert_exporter": "python",
   "pygments_lexer": "ipython3",
   "version": "3.6.0"
  }
 },
 "nbformat": 4,
 "nbformat_minor": 2
}
